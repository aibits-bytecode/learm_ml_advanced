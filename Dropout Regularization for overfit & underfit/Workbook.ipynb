{
 "cells": [
  {
   "cell_type": "markdown",
   "id": "7c6cbb99",
   "metadata": {},
   "source": [
    "<h2 style='color:blue'> Loading data </h2>"
   ]
  },
  {
   "cell_type": "code",
   "execution_count": 1,
   "id": "48295972",
   "metadata": {},
   "outputs": [
    {
     "data": {
      "text/plain": [
       "(208, 61)"
      ]
     },
     "execution_count": 1,
     "metadata": {},
     "output_type": "execute_result"
    }
   ],
   "source": [
    "import pandas as pd \n",
    "\n",
    "df = pd.read_csv('./data/sonar.all-data.csv')\n",
    "df.shape"
   ]
  },
  {
   "cell_type": "code",
   "execution_count": 2,
   "id": "8ed58880",
   "metadata": {},
   "outputs": [
    {
     "data": {
      "text/html": [
       "<div>\n",
       "<style scoped>\n",
       "    .dataframe tbody tr th:only-of-type {\n",
       "        vertical-align: middle;\n",
       "    }\n",
       "\n",
       "    .dataframe tbody tr th {\n",
       "        vertical-align: top;\n",
       "    }\n",
       "\n",
       "    .dataframe thead th {\n",
       "        text-align: right;\n",
       "    }\n",
       "</style>\n",
       "<table border=\"1\" class=\"dataframe\">\n",
       "  <thead>\n",
       "    <tr style=\"text-align: right;\">\n",
       "      <th></th>\n",
       "      <th>Freq_1</th>\n",
       "      <th>Freq_2</th>\n",
       "      <th>Freq_3</th>\n",
       "      <th>Freq_4</th>\n",
       "      <th>Freq_5</th>\n",
       "      <th>Freq_6</th>\n",
       "      <th>Freq_7</th>\n",
       "      <th>Freq_8</th>\n",
       "      <th>Freq_9</th>\n",
       "      <th>Freq_10</th>\n",
       "      <th>...</th>\n",
       "      <th>Freq_52</th>\n",
       "      <th>Freq_53</th>\n",
       "      <th>Freq_54</th>\n",
       "      <th>Freq_55</th>\n",
       "      <th>Freq_56</th>\n",
       "      <th>Freq_57</th>\n",
       "      <th>Freq_58</th>\n",
       "      <th>Freq_59</th>\n",
       "      <th>Freq_60</th>\n",
       "      <th>Label</th>\n",
       "    </tr>\n",
       "  </thead>\n",
       "  <tbody>\n",
       "    <tr>\n",
       "      <th>0</th>\n",
       "      <td>0.0200</td>\n",
       "      <td>0.0371</td>\n",
       "      <td>0.0428</td>\n",
       "      <td>0.0207</td>\n",
       "      <td>0.0954</td>\n",
       "      <td>0.0986</td>\n",
       "      <td>0.1539</td>\n",
       "      <td>0.1601</td>\n",
       "      <td>0.3109</td>\n",
       "      <td>0.2111</td>\n",
       "      <td>...</td>\n",
       "      <td>0.0027</td>\n",
       "      <td>0.0065</td>\n",
       "      <td>0.0159</td>\n",
       "      <td>0.0072</td>\n",
       "      <td>0.0167</td>\n",
       "      <td>0.0180</td>\n",
       "      <td>0.0084</td>\n",
       "      <td>0.0090</td>\n",
       "      <td>0.0032</td>\n",
       "      <td>R</td>\n",
       "    </tr>\n",
       "    <tr>\n",
       "      <th>1</th>\n",
       "      <td>0.0453</td>\n",
       "      <td>0.0523</td>\n",
       "      <td>0.0843</td>\n",
       "      <td>0.0689</td>\n",
       "      <td>0.1183</td>\n",
       "      <td>0.2583</td>\n",
       "      <td>0.2156</td>\n",
       "      <td>0.3481</td>\n",
       "      <td>0.3337</td>\n",
       "      <td>0.2872</td>\n",
       "      <td>...</td>\n",
       "      <td>0.0084</td>\n",
       "      <td>0.0089</td>\n",
       "      <td>0.0048</td>\n",
       "      <td>0.0094</td>\n",
       "      <td>0.0191</td>\n",
       "      <td>0.0140</td>\n",
       "      <td>0.0049</td>\n",
       "      <td>0.0052</td>\n",
       "      <td>0.0044</td>\n",
       "      <td>R</td>\n",
       "    </tr>\n",
       "    <tr>\n",
       "      <th>2</th>\n",
       "      <td>0.0262</td>\n",
       "      <td>0.0582</td>\n",
       "      <td>0.1099</td>\n",
       "      <td>0.1083</td>\n",
       "      <td>0.0974</td>\n",
       "      <td>0.2280</td>\n",
       "      <td>0.2431</td>\n",
       "      <td>0.3771</td>\n",
       "      <td>0.5598</td>\n",
       "      <td>0.6194</td>\n",
       "      <td>...</td>\n",
       "      <td>0.0232</td>\n",
       "      <td>0.0166</td>\n",
       "      <td>0.0095</td>\n",
       "      <td>0.0180</td>\n",
       "      <td>0.0244</td>\n",
       "      <td>0.0316</td>\n",
       "      <td>0.0164</td>\n",
       "      <td>0.0095</td>\n",
       "      <td>0.0078</td>\n",
       "      <td>R</td>\n",
       "    </tr>\n",
       "    <tr>\n",
       "      <th>3</th>\n",
       "      <td>0.0100</td>\n",
       "      <td>0.0171</td>\n",
       "      <td>0.0623</td>\n",
       "      <td>0.0205</td>\n",
       "      <td>0.0205</td>\n",
       "      <td>0.0368</td>\n",
       "      <td>0.1098</td>\n",
       "      <td>0.1276</td>\n",
       "      <td>0.0598</td>\n",
       "      <td>0.1264</td>\n",
       "      <td>...</td>\n",
       "      <td>0.0121</td>\n",
       "      <td>0.0036</td>\n",
       "      <td>0.0150</td>\n",
       "      <td>0.0085</td>\n",
       "      <td>0.0073</td>\n",
       "      <td>0.0050</td>\n",
       "      <td>0.0044</td>\n",
       "      <td>0.0040</td>\n",
       "      <td>0.0117</td>\n",
       "      <td>R</td>\n",
       "    </tr>\n",
       "    <tr>\n",
       "      <th>4</th>\n",
       "      <td>0.0762</td>\n",
       "      <td>0.0666</td>\n",
       "      <td>0.0481</td>\n",
       "      <td>0.0394</td>\n",
       "      <td>0.0590</td>\n",
       "      <td>0.0649</td>\n",
       "      <td>0.1209</td>\n",
       "      <td>0.2467</td>\n",
       "      <td>0.3564</td>\n",
       "      <td>0.4459</td>\n",
       "      <td>...</td>\n",
       "      <td>0.0031</td>\n",
       "      <td>0.0054</td>\n",
       "      <td>0.0105</td>\n",
       "      <td>0.0110</td>\n",
       "      <td>0.0015</td>\n",
       "      <td>0.0072</td>\n",
       "      <td>0.0048</td>\n",
       "      <td>0.0107</td>\n",
       "      <td>0.0094</td>\n",
       "      <td>R</td>\n",
       "    </tr>\n",
       "  </tbody>\n",
       "</table>\n",
       "<p>5 rows × 61 columns</p>\n",
       "</div>"
      ],
      "text/plain": [
       "   Freq_1  Freq_2  Freq_3  Freq_4  Freq_5  Freq_6  Freq_7  Freq_8  Freq_9  \\\n",
       "0  0.0200  0.0371  0.0428  0.0207  0.0954  0.0986  0.1539  0.1601  0.3109   \n",
       "1  0.0453  0.0523  0.0843  0.0689  0.1183  0.2583  0.2156  0.3481  0.3337   \n",
       "2  0.0262  0.0582  0.1099  0.1083  0.0974  0.2280  0.2431  0.3771  0.5598   \n",
       "3  0.0100  0.0171  0.0623  0.0205  0.0205  0.0368  0.1098  0.1276  0.0598   \n",
       "4  0.0762  0.0666  0.0481  0.0394  0.0590  0.0649  0.1209  0.2467  0.3564   \n",
       "\n",
       "   Freq_10  ...  Freq_52  Freq_53  Freq_54  Freq_55  Freq_56  Freq_57  \\\n",
       "0   0.2111  ...   0.0027   0.0065   0.0159   0.0072   0.0167   0.0180   \n",
       "1   0.2872  ...   0.0084   0.0089   0.0048   0.0094   0.0191   0.0140   \n",
       "2   0.6194  ...   0.0232   0.0166   0.0095   0.0180   0.0244   0.0316   \n",
       "3   0.1264  ...   0.0121   0.0036   0.0150   0.0085   0.0073   0.0050   \n",
       "4   0.4459  ...   0.0031   0.0054   0.0105   0.0110   0.0015   0.0072   \n",
       "\n",
       "   Freq_58  Freq_59  Freq_60  Label  \n",
       "0   0.0084   0.0090   0.0032      R  \n",
       "1   0.0049   0.0052   0.0044      R  \n",
       "2   0.0164   0.0095   0.0078      R  \n",
       "3   0.0044   0.0040   0.0117      R  \n",
       "4   0.0048   0.0107   0.0094      R  \n",
       "\n",
       "[5 rows x 61 columns]"
      ]
     },
     "execution_count": 2,
     "metadata": {},
     "output_type": "execute_result"
    }
   ],
   "source": [
    "df.head()"
   ]
  },
  {
   "cell_type": "markdown",
   "id": "7d0ba5ae",
   "metadata": {},
   "source": [
    "<h2 style='color:blue'> Data Preprocessing </h2>"
   ]
  },
  {
   "cell_type": "code",
   "execution_count": 3,
   "id": "a1e8fc6c",
   "metadata": {},
   "outputs": [
    {
     "data": {
      "text/plain": [
       "Freq_1     0\n",
       "Freq_2     0\n",
       "Freq_3     0\n",
       "Freq_4     0\n",
       "Freq_5     0\n",
       "          ..\n",
       "Freq_57    0\n",
       "Freq_58    0\n",
       "Freq_59    0\n",
       "Freq_60    0\n",
       "Label      0\n",
       "Length: 61, dtype: int64"
      ]
     },
     "execution_count": 3,
     "metadata": {},
     "output_type": "execute_result"
    }
   ],
   "source": [
    "df.isna().sum()"
   ]
  },
  {
   "cell_type": "code",
   "execution_count": 5,
   "id": "f07c5bf4",
   "metadata": {},
   "outputs": [
    {
     "data": {
      "text/plain": [
       "Freq_1     float64\n",
       "Freq_2     float64\n",
       "Freq_3     float64\n",
       "Freq_4     float64\n",
       "Freq_5     float64\n",
       "            ...   \n",
       "Freq_57    float64\n",
       "Freq_58    float64\n",
       "Freq_59    float64\n",
       "Freq_60    float64\n",
       "Label       object\n",
       "Length: 61, dtype: object"
      ]
     },
     "execution_count": 5,
     "metadata": {},
     "output_type": "execute_result"
    }
   ],
   "source": [
    "df.dtypes"
   ]
  },
  {
   "cell_type": "code",
   "execution_count": 4,
   "id": "10e527d9",
   "metadata": {},
   "outputs": [
    {
     "data": {
      "text/plain": [
       "array(['R', 'M'], dtype=object)"
      ]
     },
     "execution_count": 4,
     "metadata": {},
     "output_type": "execute_result"
    }
   ],
   "source": [
    "df.Label.unique()"
   ]
  },
  {
   "cell_type": "code",
   "execution_count": 12,
   "id": "e7d4648a",
   "metadata": {},
   "outputs": [],
   "source": [
    "x = df.drop(['Label'], axis=1)\n",
    "y = df['Label']"
   ]
  },
  {
   "cell_type": "code",
   "execution_count": 13,
   "id": "bac05de2",
   "metadata": {},
   "outputs": [
    {
     "data": {
      "text/plain": [
       "(208, 60)"
      ]
     },
     "execution_count": 13,
     "metadata": {},
     "output_type": "execute_result"
    }
   ],
   "source": [
    "x.shape"
   ]
  },
  {
   "cell_type": "code",
   "execution_count": 14,
   "id": "86aa07e2",
   "metadata": {},
   "outputs": [
    {
     "data": {
      "text/plain": [
       "(208,)"
      ]
     },
     "execution_count": 14,
     "metadata": {},
     "output_type": "execute_result"
    }
   ],
   "source": [
    "y.shape"
   ]
  },
  {
   "cell_type": "code",
   "execution_count": 15,
   "id": "a6fb2b6e",
   "metadata": {},
   "outputs": [
    {
     "data": {
      "text/html": [
       "<div>\n",
       "<style scoped>\n",
       "    .dataframe tbody tr th:only-of-type {\n",
       "        vertical-align: middle;\n",
       "    }\n",
       "\n",
       "    .dataframe tbody tr th {\n",
       "        vertical-align: top;\n",
       "    }\n",
       "\n",
       "    .dataframe thead th {\n",
       "        text-align: right;\n",
       "    }\n",
       "</style>\n",
       "<table border=\"1\" class=\"dataframe\">\n",
       "  <thead>\n",
       "    <tr style=\"text-align: right;\">\n",
       "      <th></th>\n",
       "      <th>R</th>\n",
       "    </tr>\n",
       "  </thead>\n",
       "  <tbody>\n",
       "    <tr>\n",
       "      <th>0</th>\n",
       "      <td>True</td>\n",
       "    </tr>\n",
       "    <tr>\n",
       "      <th>1</th>\n",
       "      <td>True</td>\n",
       "    </tr>\n",
       "    <tr>\n",
       "      <th>2</th>\n",
       "      <td>True</td>\n",
       "    </tr>\n",
       "    <tr>\n",
       "      <th>3</th>\n",
       "      <td>True</td>\n",
       "    </tr>\n",
       "    <tr>\n",
       "      <th>4</th>\n",
       "      <td>True</td>\n",
       "    </tr>\n",
       "  </tbody>\n",
       "</table>\n",
       "</div>"
      ],
      "text/plain": [
       "      R\n",
       "0  True\n",
       "1  True\n",
       "2  True\n",
       "3  True\n",
       "4  True"
      ]
     },
     "execution_count": 15,
     "metadata": {},
     "output_type": "execute_result"
    }
   ],
   "source": [
    "y = pd.get_dummies(y, drop_first=True)\n",
    "y[:5]"
   ]
  },
  {
   "cell_type": "code",
   "execution_count": 16,
   "id": "4afeab59",
   "metadata": {},
   "outputs": [
    {
     "data": {
      "text/html": [
       "<div>\n",
       "<style scoped>\n",
       "    .dataframe tbody tr th:only-of-type {\n",
       "        vertical-align: middle;\n",
       "    }\n",
       "\n",
       "    .dataframe tbody tr th {\n",
       "        vertical-align: top;\n",
       "    }\n",
       "\n",
       "    .dataframe thead th {\n",
       "        text-align: right;\n",
       "    }\n",
       "</style>\n",
       "<table border=\"1\" class=\"dataframe\">\n",
       "  <thead>\n",
       "    <tr style=\"text-align: right;\">\n",
       "      <th></th>\n",
       "      <th>R</th>\n",
       "    </tr>\n",
       "  </thead>\n",
       "  <tbody>\n",
       "    <tr>\n",
       "      <th>0</th>\n",
       "      <td>1</td>\n",
       "    </tr>\n",
       "    <tr>\n",
       "      <th>1</th>\n",
       "      <td>1</td>\n",
       "    </tr>\n",
       "    <tr>\n",
       "      <th>2</th>\n",
       "      <td>1</td>\n",
       "    </tr>\n",
       "    <tr>\n",
       "      <th>3</th>\n",
       "      <td>1</td>\n",
       "    </tr>\n",
       "    <tr>\n",
       "      <th>4</th>\n",
       "      <td>1</td>\n",
       "    </tr>\n",
       "  </tbody>\n",
       "</table>\n",
       "</div>"
      ],
      "text/plain": [
       "   R\n",
       "0  1\n",
       "1  1\n",
       "2  1\n",
       "3  1\n",
       "4  1"
      ]
     },
     "execution_count": 16,
     "metadata": {},
     "output_type": "execute_result"
    }
   ],
   "source": [
    "y.R = y.R.map({True: 1, False: 0})\n",
    "y[:5]"
   ]
  },
  {
   "cell_type": "code",
   "execution_count": 17,
   "id": "ccab7860",
   "metadata": {},
   "outputs": [
    {
     "data": {
      "text/plain": [
       "R\n",
       "0    111\n",
       "1     97\n",
       "Name: count, dtype: int64"
      ]
     },
     "execution_count": 17,
     "metadata": {},
     "output_type": "execute_result"
    }
   ],
   "source": [
    "y.value_counts()"
   ]
  },
  {
   "cell_type": "markdown",
   "id": "b6894a9b",
   "metadata": {},
   "source": [
    "<h2 style='color:blue'> Model Creation </h2>"
   ]
  },
  {
   "cell_type": "code",
   "execution_count": 18,
   "id": "a52aa477",
   "metadata": {},
   "outputs": [],
   "source": [
    "from sklearn.model_selection import train_test_split\n",
    "x_train, x_test, y_train, y_test = train_test_split(x,y, test_size=0.2, random_state=1)"
   ]
  },
  {
   "cell_type": "code",
   "execution_count": 19,
   "id": "fd95ec48",
   "metadata": {},
   "outputs": [
    {
     "data": {
      "text/plain": [
       "((166, 60), (42, 60))"
      ]
     },
     "execution_count": 19,
     "metadata": {},
     "output_type": "execute_result"
    }
   ],
   "source": [
    "x_train.shape, x_test.shape"
   ]
  },
  {
   "cell_type": "code",
   "execution_count": 20,
   "id": "e2e7560a",
   "metadata": {},
   "outputs": [],
   "source": [
    "import tensorflow as tf \n",
    "from tensorflow import kerass"
   ]
  },
  {
   "cell_type": "code",
   "execution_count": 23,
   "id": "02ed780f",
   "metadata": {},
   "outputs": [
    {
     "name": "stdout",
     "output_type": "stream",
     "text": [
      "Epoch 1/50\n",
      "21/21 [==============================] - 0s 8ms/step - loss: 0.7713 - accuracy: 0.4217\n",
      "Epoch 2/50\n",
      "21/21 [==============================] - 0s 5ms/step - loss: 0.7402 - accuracy: 0.4337\n",
      "Epoch 3/50\n",
      "21/21 [==============================] - 0s 5ms/step - loss: 0.7275 - accuracy: 0.4578\n",
      "Epoch 4/50\n",
      "21/21 [==============================] - 0s 5ms/step - loss: 0.6929 - accuracy: 0.5361\n",
      "Epoch 5/50\n",
      "21/21 [==============================] - 0s 5ms/step - loss: 0.6720 - accuracy: 0.5723\n",
      "Epoch 6/50\n",
      "21/21 [==============================] - 0s 5ms/step - loss: 0.6587 - accuracy: 0.6627\n",
      "Epoch 7/50\n",
      "21/21 [==============================] - 0s 5ms/step - loss: 0.6449 - accuracy: 0.6566\n",
      "Epoch 8/50\n",
      "21/21 [==============================] - 0s 6ms/step - loss: 0.6343 - accuracy: 0.7108\n",
      "Epoch 9/50\n",
      "21/21 [==============================] - 0s 5ms/step - loss: 0.6095 - accuracy: 0.6988\n",
      "Epoch 10/50\n",
      "21/21 [==============================] - 0s 6ms/step - loss: 0.5910 - accuracy: 0.7530\n",
      "Epoch 11/50\n",
      "21/21 [==============================] - 0s 5ms/step - loss: 0.5749 - accuracy: 0.7289\n",
      "Epoch 12/50\n",
      "21/21 [==============================] - 0s 5ms/step - loss: 0.5441 - accuracy: 0.7771\n",
      "Epoch 13/50\n",
      "21/21 [==============================] - 0s 5ms/step - loss: 0.5449 - accuracy: 0.7289\n",
      "Epoch 14/50\n",
      "21/21 [==============================] - 0s 7ms/step - loss: 0.5162 - accuracy: 0.7651\n",
      "Epoch 15/50\n",
      "21/21 [==============================] - 0s 6ms/step - loss: 0.5077 - accuracy: 0.7892\n",
      "Epoch 16/50\n",
      "21/21 [==============================] - 0s 5ms/step - loss: 0.4807 - accuracy: 0.7952\n",
      "Epoch 17/50\n",
      "21/21 [==============================] - 0s 5ms/step - loss: 0.4648 - accuracy: 0.8193\n",
      "Epoch 18/50\n",
      "21/21 [==============================] - 0s 5ms/step - loss: 0.4566 - accuracy: 0.8012\n",
      "Epoch 19/50\n",
      "21/21 [==============================] - 0s 6ms/step - loss: 0.4438 - accuracy: 0.8012\n",
      "Epoch 20/50\n",
      "21/21 [==============================] - 0s 5ms/step - loss: 0.4506 - accuracy: 0.8494\n",
      "Epoch 21/50\n",
      "21/21 [==============================] - 0s 5ms/step - loss: 0.4350 - accuracy: 0.7892\n",
      "Epoch 22/50\n",
      "21/21 [==============================] - 0s 5ms/step - loss: 0.4446 - accuracy: 0.7892\n",
      "Epoch 23/50\n",
      "21/21 [==============================] - 0s 5ms/step - loss: 0.4179 - accuracy: 0.8373\n",
      "Epoch 24/50\n",
      "21/21 [==============================] - 0s 5ms/step - loss: 0.4126 - accuracy: 0.8193\n",
      "Epoch 25/50\n",
      "21/21 [==============================] - 0s 5ms/step - loss: 0.4189 - accuracy: 0.8253\n",
      "Epoch 26/50\n",
      "21/21 [==============================] - 0s 5ms/step - loss: 0.4082 - accuracy: 0.8253\n",
      "Epoch 27/50\n",
      "21/21 [==============================] - 0s 5ms/step - loss: 0.4075 - accuracy: 0.8313\n",
      "Epoch 28/50\n",
      "21/21 [==============================] - 0s 5ms/step - loss: 0.4104 - accuracy: 0.8313\n",
      "Epoch 29/50\n",
      "21/21 [==============================] - 0s 5ms/step - loss: 0.4229 - accuracy: 0.8253\n",
      "Epoch 30/50\n",
      "21/21 [==============================] - 0s 5ms/step - loss: 0.3987 - accuracy: 0.8434\n",
      "Epoch 31/50\n",
      "21/21 [==============================] - 0s 6ms/step - loss: 0.3994 - accuracy: 0.8253\n",
      "Epoch 32/50\n",
      "21/21 [==============================] - 0s 5ms/step - loss: 0.3951 - accuracy: 0.8554\n",
      "Epoch 33/50\n",
      "21/21 [==============================] - 0s 5ms/step - loss: 0.3989 - accuracy: 0.8373\n",
      "Epoch 34/50\n",
      "21/21 [==============================] - 0s 5ms/step - loss: 0.3951 - accuracy: 0.8494\n",
      "Epoch 35/50\n",
      "21/21 [==============================] - 0s 5ms/step - loss: 0.4018 - accuracy: 0.8434\n",
      "Epoch 36/50\n",
      "21/21 [==============================] - 0s 5ms/step - loss: 0.4174 - accuracy: 0.8253\n",
      "Epoch 37/50\n",
      "21/21 [==============================] - 0s 5ms/step - loss: 0.3998 - accuracy: 0.8614\n",
      "Epoch 38/50\n",
      "21/21 [==============================] - 0s 5ms/step - loss: 0.3981 - accuracy: 0.8554\n",
      "Epoch 39/50\n",
      "21/21 [==============================] - 0s 5ms/step - loss: 0.3874 - accuracy: 0.8554\n",
      "Epoch 40/50\n",
      "21/21 [==============================] - 0s 5ms/step - loss: 0.3880 - accuracy: 0.8434\n",
      "Epoch 41/50\n",
      "21/21 [==============================] - 0s 5ms/step - loss: 0.3870 - accuracy: 0.8554\n",
      "Epoch 42/50\n",
      "21/21 [==============================] - 0s 5ms/step - loss: 0.3828 - accuracy: 0.8434\n",
      "Epoch 43/50\n",
      "21/21 [==============================] - 0s 5ms/step - loss: 0.3899 - accuracy: 0.8554\n",
      "Epoch 44/50\n",
      "21/21 [==============================] - 0s 5ms/step - loss: 0.3871 - accuracy: 0.8373\n",
      "Epoch 45/50\n",
      "21/21 [==============================] - 0s 5ms/step - loss: 0.3873 - accuracy: 0.8373\n",
      "Epoch 46/50\n",
      "21/21 [==============================] - 0s 6ms/step - loss: 0.3789 - accuracy: 0.8313\n",
      "Epoch 47/50\n",
      "21/21 [==============================] - 0s 5ms/step - loss: 0.3858 - accuracy: 0.8434\n",
      "Epoch 48/50\n",
      "21/21 [==============================] - 0s 5ms/step - loss: 0.3803 - accuracy: 0.8614\n",
      "Epoch 49/50\n",
      "21/21 [==============================] - 0s 5ms/step - loss: 0.3794 - accuracy: 0.8675\n",
      "Epoch 50/50\n",
      "21/21 [==============================] - 0s 6ms/step - loss: 0.3778 - accuracy: 0.8554\n"
     ]
    },
    {
     "data": {
      "text/plain": [
       "<keras.callbacks.History at 0x1755579a0>"
      ]
     },
     "execution_count": 23,
     "metadata": {},
     "output_type": "execute_result"
    }
   ],
   "source": [
    "model = keras.Sequential([\n",
    "    keras.layers.Dense(30, input_dim=60, activation='relu'),\n",
    "    keras.layers.Dense(20, activation='relu'),\n",
    "    keras.layers.Dense(10, activation='relu'),\n",
    "    keras.layers.Dense(1, activation='sigmoid')\n",
    "])\n",
    "\n",
    "model.compile(\n",
    "    loss='binary_crossentropy',\n",
    "    optimizer='adam',\n",
    "    metrics=['accuracy']\n",
    ")\n",
    "\n",
    "model.fit(x_train, y_train, epochs=50, batch_size=8)"
   ]
  },
  {
   "cell_type": "code",
   "execution_count": 24,
   "id": "8fb3a81c",
   "metadata": {},
   "outputs": [
    {
     "name": "stdout",
     "output_type": "stream",
     "text": [
      "2/2 [==============================] - 0s 164ms/step - loss: 0.5079 - accuracy: 0.7143\n"
     ]
    },
    {
     "data": {
      "text/plain": [
       "[0.5079248547554016, 0.7142857313156128]"
      ]
     },
     "execution_count": 24,
     "metadata": {},
     "output_type": "execute_result"
    }
   ],
   "source": [
    "model.evaluate(x_test,y_test)"
   ]
  },
  {
   "cell_type": "code",
   "execution_count": 28,
   "id": "aaaf737b",
   "metadata": {},
   "outputs": [
    {
     "name": "stdout",
     "output_type": "stream",
     "text": [
      "2/2 [==============================] - 0s 4ms/step\n",
      "Predicted : [0. 1. 1. 0. 1.]\n",
      "Truth :      R\n",
      "186  0\n",
      "155  0\n",
      "165  0\n",
      "200  0\n",
      "58   1\n"
     ]
    }
   ],
   "source": [
    "import numpy as np\n",
    "y_pred = model.predict(x_test).reshape(-1)\n",
    "y_pred = np.round(y_pred)\n",
    "print(f'Predicted : {y_pred[:5]}')\n",
    "print(f'Truth : {y_test[:5]}')"
   ]
  },
  {
   "cell_type": "code",
   "execution_count": 29,
   "id": "24be235e",
   "metadata": {},
   "outputs": [
    {
     "name": "stdout",
     "output_type": "stream",
     "text": [
      "              precision    recall  f1-score   support\n",
      "\n",
      "           0       0.68      0.75      0.71        20\n",
      "           1       0.75      0.68      0.71        22\n",
      "\n",
      "    accuracy                           0.71        42\n",
      "   macro avg       0.72      0.72      0.71        42\n",
      "weighted avg       0.72      0.71      0.71        42\n",
      "\n"
     ]
    }
   ],
   "source": [
    "from sklearn.metrics import confusion_matrix, classification_report\n",
    "print(classification_report(y_test,y_pred))"
   ]
  },
  {
   "cell_type": "markdown",
   "id": "4876d418",
   "metadata": {},
   "source": [
    "<h2 style='color:blue'> Model with dropout layer </h2>"
   ]
  },
  {
   "cell_type": "code",
   "execution_count": 32,
   "id": "257411b4",
   "metadata": {},
   "outputs": [
    {
     "name": "stdout",
     "output_type": "stream",
     "text": [
      "Epoch 1/100\n",
      "21/21 [==============================] - 1s 11ms/step - loss: 1.1568 - accuracy: 0.5843\n",
      "Epoch 2/100\n",
      "21/21 [==============================] - 0s 6ms/step - loss: 1.0749 - accuracy: 0.4880\n",
      "Epoch 3/100\n",
      "21/21 [==============================] - 0s 7ms/step - loss: 0.9925 - accuracy: 0.5241\n",
      "Epoch 4/100\n",
      "21/21 [==============================] - 0s 6ms/step - loss: 1.1463 - accuracy: 0.4337\n",
      "Epoch 5/100\n",
      "21/21 [==============================] - 0s 6ms/step - loss: 0.8917 - accuracy: 0.4940\n",
      "Epoch 6/100\n",
      "21/21 [==============================] - 0s 6ms/step - loss: 0.8909 - accuracy: 0.5542\n",
      "Epoch 7/100\n",
      "21/21 [==============================] - 0s 6ms/step - loss: 0.8238 - accuracy: 0.5422\n",
      "Epoch 8/100\n",
      "21/21 [==============================] - 0s 6ms/step - loss: 0.8614 - accuracy: 0.4819\n",
      "Epoch 9/100\n",
      "21/21 [==============================] - 0s 6ms/step - loss: 0.8024 - accuracy: 0.5181\n",
      "Epoch 10/100\n",
      "21/21 [==============================] - 0s 6ms/step - loss: 0.8338 - accuracy: 0.4759\n",
      "Epoch 11/100\n",
      "21/21 [==============================] - 0s 6ms/step - loss: 0.8186 - accuracy: 0.5301\n",
      "Epoch 12/100\n",
      "21/21 [==============================] - 0s 6ms/step - loss: 0.8342 - accuracy: 0.4639\n",
      "Epoch 13/100\n",
      "21/21 [==============================] - 0s 6ms/step - loss: 0.7774 - accuracy: 0.5542\n",
      "Epoch 14/100\n",
      "21/21 [==============================] - 0s 6ms/step - loss: 0.8101 - accuracy: 0.4819\n",
      "Epoch 15/100\n",
      "21/21 [==============================] - 0s 6ms/step - loss: 0.7681 - accuracy: 0.5181\n",
      "Epoch 16/100\n",
      "21/21 [==============================] - 0s 6ms/step - loss: 0.8056 - accuracy: 0.4639\n",
      "Epoch 17/100\n",
      "21/21 [==============================] - 0s 6ms/step - loss: 0.7400 - accuracy: 0.5602\n",
      "Epoch 18/100\n",
      "21/21 [==============================] - 0s 6ms/step - loss: 0.7311 - accuracy: 0.5361\n",
      "Epoch 19/100\n",
      "21/21 [==============================] - 0s 6ms/step - loss: 0.7548 - accuracy: 0.5542\n",
      "Epoch 20/100\n",
      "21/21 [==============================] - 0s 6ms/step - loss: 0.7133 - accuracy: 0.5542\n",
      "Epoch 21/100\n",
      "21/21 [==============================] - 0s 6ms/step - loss: 0.7504 - accuracy: 0.5602\n",
      "Epoch 22/100\n",
      "21/21 [==============================] - 0s 7ms/step - loss: 0.7401 - accuracy: 0.5482\n",
      "Epoch 23/100\n",
      "21/21 [==============================] - 0s 6ms/step - loss: 0.7633 - accuracy: 0.5060\n",
      "Epoch 24/100\n",
      "21/21 [==============================] - 0s 6ms/step - loss: 0.7558 - accuracy: 0.5482\n",
      "Epoch 25/100\n",
      "21/21 [==============================] - 0s 7ms/step - loss: 0.6662 - accuracy: 0.6084\n",
      "Epoch 26/100\n",
      "21/21 [==============================] - 0s 6ms/step - loss: 0.6894 - accuracy: 0.5482\n",
      "Epoch 27/100\n",
      "21/21 [==============================] - 0s 7ms/step - loss: 0.7158 - accuracy: 0.5482\n",
      "Epoch 28/100\n",
      "21/21 [==============================] - 0s 6ms/step - loss: 0.6728 - accuracy: 0.6084\n",
      "Epoch 29/100\n",
      "21/21 [==============================] - 0s 8ms/step - loss: 0.6797 - accuracy: 0.6024\n",
      "Epoch 30/100\n",
      "21/21 [==============================] - 0s 7ms/step - loss: 0.6808 - accuracy: 0.6084\n",
      "Epoch 31/100\n",
      "21/21 [==============================] - 0s 7ms/step - loss: 0.6698 - accuracy: 0.6084\n",
      "Epoch 32/100\n",
      "21/21 [==============================] - 0s 7ms/step - loss: 0.6911 - accuracy: 0.5723\n",
      "Epoch 33/100\n",
      "21/21 [==============================] - 0s 8ms/step - loss: 0.6725 - accuracy: 0.6205\n",
      "Epoch 34/100\n",
      "21/21 [==============================] - 0s 7ms/step - loss: 0.6223 - accuracy: 0.6446\n",
      "Epoch 35/100\n",
      "21/21 [==============================] - 0s 7ms/step - loss: 0.6430 - accuracy: 0.6506\n",
      "Epoch 36/100\n",
      "21/21 [==============================] - 0s 7ms/step - loss: 0.6805 - accuracy: 0.6205\n",
      "Epoch 37/100\n",
      "21/21 [==============================] - 0s 7ms/step - loss: 0.6629 - accuracy: 0.5843\n",
      "Epoch 38/100\n",
      "21/21 [==============================] - 0s 7ms/step - loss: 0.6528 - accuracy: 0.6325\n",
      "Epoch 39/100\n",
      "21/21 [==============================] - 0s 7ms/step - loss: 0.6129 - accuracy: 0.6687\n",
      "Epoch 40/100\n",
      "21/21 [==============================] - 0s 8ms/step - loss: 0.6414 - accuracy: 0.6145\n",
      "Epoch 41/100\n",
      "21/21 [==============================] - 0s 8ms/step - loss: 0.6033 - accuracy: 0.7169\n",
      "Epoch 42/100\n",
      "21/21 [==============================] - 0s 8ms/step - loss: 0.6318 - accuracy: 0.6506\n",
      "Epoch 43/100\n",
      "21/21 [==============================] - 0s 8ms/step - loss: 0.6375 - accuracy: 0.6386\n",
      "Epoch 44/100\n",
      "21/21 [==============================] - 0s 8ms/step - loss: 0.6180 - accuracy: 0.6928\n",
      "Epoch 45/100\n",
      "21/21 [==============================] - 0s 8ms/step - loss: 0.6034 - accuracy: 0.6566\n",
      "Epoch 46/100\n",
      "21/21 [==============================] - 0s 9ms/step - loss: 0.6156 - accuracy: 0.6145\n",
      "Epoch 47/100\n",
      "21/21 [==============================] - 0s 7ms/step - loss: 0.6070 - accuracy: 0.6867\n",
      "Epoch 48/100\n",
      "21/21 [==============================] - 0s 6ms/step - loss: 0.6018 - accuracy: 0.6325\n",
      "Epoch 49/100\n",
      "21/21 [==============================] - 0s 6ms/step - loss: 0.6509 - accuracy: 0.5843\n",
      "Epoch 50/100\n",
      "21/21 [==============================] - 0s 6ms/step - loss: 0.5998 - accuracy: 0.6386\n",
      "Epoch 51/100\n",
      "21/21 [==============================] - 0s 7ms/step - loss: 0.5553 - accuracy: 0.7108\n",
      "Epoch 52/100\n",
      "21/21 [==============================] - 0s 7ms/step - loss: 0.5236 - accuracy: 0.7169\n",
      "Epoch 53/100\n",
      "21/21 [==============================] - 0s 7ms/step - loss: 0.5832 - accuracy: 0.7048\n",
      "Epoch 54/100\n",
      "21/21 [==============================] - 0s 7ms/step - loss: 0.5438 - accuracy: 0.6928\n",
      "Epoch 55/100\n",
      "21/21 [==============================] - 0s 7ms/step - loss: 0.5873 - accuracy: 0.6386\n",
      "Epoch 56/100\n",
      "21/21 [==============================] - 0s 7ms/step - loss: 0.5412 - accuracy: 0.7289\n",
      "Epoch 57/100\n",
      "21/21 [==============================] - 0s 7ms/step - loss: 0.5587 - accuracy: 0.6807\n",
      "Epoch 58/100\n",
      "21/21 [==============================] - 0s 7ms/step - loss: 0.5584 - accuracy: 0.7108\n",
      "Epoch 59/100\n",
      "21/21 [==============================] - 0s 7ms/step - loss: 0.5143 - accuracy: 0.7169\n",
      "Epoch 60/100\n",
      "21/21 [==============================] - 0s 7ms/step - loss: 0.5294 - accuracy: 0.7048\n",
      "Epoch 61/100\n",
      "21/21 [==============================] - 0s 7ms/step - loss: 0.5267 - accuracy: 0.7349\n",
      "Epoch 62/100\n",
      "21/21 [==============================] - 0s 7ms/step - loss: 0.5035 - accuracy: 0.7410\n",
      "Epoch 63/100\n",
      "21/21 [==============================] - 0s 7ms/step - loss: 0.5277 - accuracy: 0.7410\n",
      "Epoch 64/100\n",
      "21/21 [==============================] - 0s 7ms/step - loss: 0.4893 - accuracy: 0.7530\n",
      "Epoch 65/100\n",
      "21/21 [==============================] - 0s 7ms/step - loss: 0.4925 - accuracy: 0.7289\n",
      "Epoch 66/100\n",
      "21/21 [==============================] - 0s 7ms/step - loss: 0.4951 - accuracy: 0.7590\n",
      "Epoch 67/100\n",
      "21/21 [==============================] - 0s 7ms/step - loss: 0.4982 - accuracy: 0.7590\n",
      "Epoch 68/100\n",
      "21/21 [==============================] - 0s 7ms/step - loss: 0.5078 - accuracy: 0.7651\n",
      "Epoch 69/100\n",
      "21/21 [==============================] - 0s 7ms/step - loss: 0.4569 - accuracy: 0.7349\n",
      "Epoch 70/100\n",
      "21/21 [==============================] - 0s 6ms/step - loss: 0.4929 - accuracy: 0.7530\n",
      "Epoch 71/100\n",
      "21/21 [==============================] - 0s 6ms/step - loss: 0.4729 - accuracy: 0.7952\n",
      "Epoch 72/100\n",
      "21/21 [==============================] - 0s 6ms/step - loss: 0.4455 - accuracy: 0.7771\n",
      "Epoch 73/100\n",
      "21/21 [==============================] - 0s 6ms/step - loss: 0.4515 - accuracy: 0.7831\n",
      "Epoch 74/100\n",
      "21/21 [==============================] - 0s 6ms/step - loss: 0.4585 - accuracy: 0.8012\n",
      "Epoch 75/100\n",
      "21/21 [==============================] - 0s 6ms/step - loss: 0.4530 - accuracy: 0.7952\n",
      "Epoch 76/100\n",
      "21/21 [==============================] - 0s 6ms/step - loss: 0.4403 - accuracy: 0.7892\n",
      "Epoch 77/100\n",
      "21/21 [==============================] - 0s 6ms/step - loss: 0.4745 - accuracy: 0.8012\n",
      "Epoch 78/100\n",
      "21/21 [==============================] - 0s 7ms/step - loss: 0.4550 - accuracy: 0.7952\n",
      "Epoch 79/100\n",
      "21/21 [==============================] - 0s 6ms/step - loss: 0.4501 - accuracy: 0.8012\n",
      "Epoch 80/100\n",
      "21/21 [==============================] - 0s 6ms/step - loss: 0.4049 - accuracy: 0.8133\n",
      "Epoch 81/100\n",
      "21/21 [==============================] - 0s 6ms/step - loss: 0.4616 - accuracy: 0.7711\n",
      "Epoch 82/100\n",
      "21/21 [==============================] - 0s 6ms/step - loss: 0.4326 - accuracy: 0.8253\n",
      "Epoch 83/100\n"
     ]
    },
    {
     "name": "stdout",
     "output_type": "stream",
     "text": [
      "21/21 [==============================] - 0s 6ms/step - loss: 0.4628 - accuracy: 0.8072\n",
      "Epoch 84/100\n",
      "21/21 [==============================] - 0s 6ms/step - loss: 0.4360 - accuracy: 0.8434\n",
      "Epoch 85/100\n",
      "21/21 [==============================] - 0s 6ms/step - loss: 0.4453 - accuracy: 0.7711\n",
      "Epoch 86/100\n",
      "21/21 [==============================] - 0s 6ms/step - loss: 0.4248 - accuracy: 0.7952\n",
      "Epoch 87/100\n",
      "21/21 [==============================] - 0s 6ms/step - loss: 0.4591 - accuracy: 0.7831\n",
      "Epoch 88/100\n",
      "21/21 [==============================] - 0s 6ms/step - loss: 0.4553 - accuracy: 0.7831\n",
      "Epoch 89/100\n",
      "21/21 [==============================] - 0s 8ms/step - loss: 0.4711 - accuracy: 0.8193\n",
      "Epoch 90/100\n",
      "21/21 [==============================] - 0s 6ms/step - loss: 0.4697 - accuracy: 0.8012\n",
      "Epoch 91/100\n",
      "21/21 [==============================] - 0s 6ms/step - loss: 0.4545 - accuracy: 0.7892\n",
      "Epoch 92/100\n",
      "21/21 [==============================] - 0s 6ms/step - loss: 0.4245 - accuracy: 0.8253\n",
      "Epoch 93/100\n",
      "21/21 [==============================] - 0s 6ms/step - loss: 0.4152 - accuracy: 0.8373\n",
      "Epoch 94/100\n",
      "21/21 [==============================] - 0s 6ms/step - loss: 0.4359 - accuracy: 0.8193\n",
      "Epoch 95/100\n",
      "21/21 [==============================] - 0s 6ms/step - loss: 0.4130 - accuracy: 0.8012\n",
      "Epoch 96/100\n",
      "21/21 [==============================] - 0s 6ms/step - loss: 0.4646 - accuracy: 0.7892\n",
      "Epoch 97/100\n",
      "21/21 [==============================] - 0s 6ms/step - loss: 0.3974 - accuracy: 0.8373\n",
      "Epoch 98/100\n",
      "21/21 [==============================] - 0s 6ms/step - loss: 0.4397 - accuracy: 0.8313\n",
      "Epoch 99/100\n",
      "21/21 [==============================] - 0s 6ms/step - loss: 0.3983 - accuracy: 0.8193\n",
      "Epoch 100/100\n",
      "21/21 [==============================] - 0s 6ms/step - loss: 0.4380 - accuracy: 0.8313\n"
     ]
    },
    {
     "data": {
      "text/plain": [
       "<keras.callbacks.History at 0x296569880>"
      ]
     },
     "execution_count": 32,
     "metadata": {},
     "output_type": "execute_result"
    }
   ],
   "source": [
    "model = keras.Sequential([\n",
    "    keras.layers.Dense(30, input_dim=60, activation='relu'),\n",
    "    keras.layers.Dropout(0.5),\n",
    "    keras.layers.Dense(20, activation='relu'),\n",
    "    keras.layers.Dropout(0.5),\n",
    "    keras.layers.Dense(10, activation='relu'),\n",
    "    keras.layers.Dropout(0.5),\n",
    "    keras.layers.Dense(1, activation='sigmoid')\n",
    "])\n",
    "\n",
    "model.compile(\n",
    "    loss='binary_crossentropy',\n",
    "    optimizer='adam',\n",
    "    metrics=['accuracy']\n",
    ")\n",
    "\n",
    "model.fit(x_train, y_train, epochs=100, batch_size=8)"
   ]
  },
  {
   "cell_type": "code",
   "execution_count": 33,
   "id": "495a0c69",
   "metadata": {},
   "outputs": [
    {
     "name": "stdout",
     "output_type": "stream",
     "text": [
      "2/2 [==============================] - 0s 34ms/step - loss: 0.5030 - accuracy: 0.7143\n"
     ]
    },
    {
     "data": {
      "text/plain": [
       "[0.5030249357223511, 0.7142857313156128]"
      ]
     },
     "execution_count": 33,
     "metadata": {},
     "output_type": "execute_result"
    }
   ],
   "source": [
    "model.evaluate(x_test,y_test)"
   ]
  },
  {
   "cell_type": "code",
   "execution_count": 34,
   "id": "dfd1ee9a",
   "metadata": {},
   "outputs": [
    {
     "name": "stdout",
     "output_type": "stream",
     "text": [
      "2/2 [==============================] - 0s 6ms/step\n",
      "Predicted : [0. 1. 1. 0. 1.]\n",
      "Truth :      R\n",
      "186  0\n",
      "155  0\n",
      "165  0\n",
      "200  0\n",
      "58   1\n"
     ]
    }
   ],
   "source": [
    "y_pred = model.predict(x_test).reshape(-1)\n",
    "y_pred = np.round(y_pred)\n",
    "print(f'Predicted : {y_pred[:5]}')\n",
    "print(f'Truth : {y_test[:5]}')"
   ]
  },
  {
   "cell_type": "code",
   "execution_count": 35,
   "id": "db78e0da",
   "metadata": {},
   "outputs": [
    {
     "name": "stdout",
     "output_type": "stream",
     "text": [
      "              precision    recall  f1-score   support\n",
      "\n",
      "           0       0.79      0.55      0.65        20\n",
      "           1       0.68      0.86      0.76        22\n",
      "\n",
      "    accuracy                           0.71        42\n",
      "   macro avg       0.73      0.71      0.70        42\n",
      "weighted avg       0.73      0.71      0.71        42\n",
      "\n"
     ]
    }
   ],
   "source": [
    "from sklearn.metrics import confusion_matrix, classification_report\n",
    "print(classification_report(y_test,y_pred))"
   ]
  },
  {
   "cell_type": "code",
   "execution_count": null,
   "id": "c91590b3",
   "metadata": {},
   "outputs": [],
   "source": []
  }
 ],
 "metadata": {
  "kernelspec": {
   "display_name": "Python 3 (ipykernel)",
   "language": "python",
   "name": "python3"
  },
  "language_info": {
   "codemirror_mode": {
    "name": "ipython",
    "version": 3
   },
   "file_extension": ".py",
   "mimetype": "text/x-python",
   "name": "python",
   "nbconvert_exporter": "python",
   "pygments_lexer": "ipython3",
   "version": "3.9.13"
  }
 },
 "nbformat": 4,
 "nbformat_minor": 5
}
